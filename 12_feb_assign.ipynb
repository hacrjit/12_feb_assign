{
 "cells": [
  {
   "cell_type": "markdown",
   "id": "169723c0",
   "metadata": {},
   "source": [
    "### Question No. 1"
   ]
  },
  {
   "cell_type": "markdown",
   "id": "bb6ed42c",
   "metadata": {},
   "source": [
    "#### Exceptions\n",
    "\n",
    "Even if a statement or expression is syntatically correct, it may cause an error when an attempt is made to execute it. Errors detected during execution are caalled exceptions.\n",
    "\n",
    "An error is an issue in a program that prevent the program from completing its task while an exception is a condition that inturupts the normal flow of the program.    "
   ]
  },
  {
   "cell_type": "markdown",
   "id": "2bb73c10",
   "metadata": {},
   "source": [
    "### Question No. 2"
   ]
  },
  {
   "cell_type": "markdown",
   "id": "27e80ff4",
   "metadata": {},
   "source": [
    "When an exception is not handled in such case our program ends with an error message during execution."
   ]
  },
  {
   "cell_type": "markdown",
   "id": "a7294f7b",
   "metadata": {},
   "source": [
    "##### Example"
   ]
  },
  {
   "cell_type": "code",
   "execution_count": 55,
   "id": "8f5413ff",
   "metadata": {},
   "outputs": [
    {
     "name": "stdout",
     "output_type": "stream",
     "text": [
      "Starting of the program\n"
     ]
    },
    {
     "ename": "ZeroDivisionError",
     "evalue": "division by zero",
     "output_type": "error",
     "traceback": [
      "\u001b[0;31m---------------------------------------------------------------------------\u001b[0m",
      "\u001b[0;31mZeroDivisionError\u001b[0m                         Traceback (most recent call last)",
      "\u001b[0;32m/tmp/ipykernel_307180/2817251673.py\u001b[0m in \u001b[0;36m<module>\u001b[0;34m\u001b[0m\n\u001b[1;32m      1\u001b[0m \u001b[0mprint\u001b[0m\u001b[0;34m(\u001b[0m\u001b[0;34m\"Starting of the program\"\u001b[0m\u001b[0;34m)\u001b[0m\u001b[0;34m\u001b[0m\u001b[0;34m\u001b[0m\u001b[0m\n\u001b[0;32m----> 2\u001b[0;31m \u001b[0mprint\u001b[0m\u001b[0;34m(\u001b[0m\u001b[0;36m7\u001b[0m\u001b[0;34m/\u001b[0m\u001b[0;36m0\u001b[0m\u001b[0;34m)\u001b[0m\u001b[0;34m\u001b[0m\u001b[0;34m\u001b[0m\u001b[0m\n\u001b[0m\u001b[1;32m      3\u001b[0m \u001b[0mprint\u001b[0m\u001b[0;34m(\u001b[0m\u001b[0;34m\"End of Program\"\u001b[0m\u001b[0;34m)\u001b[0m\u001b[0;34m\u001b[0m\u001b[0;34m\u001b[0m\u001b[0m\n",
      "\u001b[0;31mZeroDivisionError\u001b[0m: division by zero"
     ]
    }
   ],
   "source": [
    "print(\"Starting of the program\")\n",
    "print(7/0)\n",
    "print(\"End of Program\")"
   ]
  },
  {
   "cell_type": "markdown",
   "id": "24e79f3e",
   "metadata": {},
   "source": [
    "In the above example our program ends with exception(ZeroDivisionError)."
   ]
  },
  {
   "cell_type": "markdown",
   "id": "4d9f36bb",
   "metadata": {},
   "source": [
    "### Question No. 3"
   ]
  },
  {
   "cell_type": "markdown",
   "id": "4ba86db9",
   "metadata": {},
   "source": [
    "Try and Except Statements are used to catch and handle exceptions\n",
    "\n",
    "#### Example"
   ]
  },
  {
   "cell_type": "code",
   "execution_count": 56,
   "id": "f172e687",
   "metadata": {},
   "outputs": [
    {
     "name": "stdout",
     "output_type": "stream",
     "text": [
      "Exception handled Successfully! :  division by zero\n"
     ]
    }
   ],
   "source": [
    "try:\n",
    "    print(45/0)\n",
    "except Exception as e:\n",
    "    print(\"Exception handled Successfully! : \",e)"
   ]
  },
  {
   "cell_type": "markdown",
   "id": "e1216565",
   "metadata": {},
   "source": [
    "### Question No. 4"
   ]
  },
  {
   "cell_type": "markdown",
   "id": "e4b69c12",
   "metadata": {},
   "source": [
    "#### a.\n",
    "\n",
    "try: All the suspicious code are kept in this block to avoid exceptions.\n",
    "\n",
    "else: else block will execute only when try block execute without any exception.\n",
    "\n",
    "#### Example"
   ]
  },
  {
   "cell_type": "code",
   "execution_count": 57,
   "id": "f9980df8",
   "metadata": {},
   "outputs": [
    {
     "name": "stdout",
     "output_type": "stream",
     "text": [
      "11.0\n",
      "No Exception in this case\n"
     ]
    }
   ],
   "source": [
    "try:\n",
    "    print(22/2)\n",
    "except:\n",
    "    print(\"there is an exception\")\n",
    "else:\n",
    "    print(\"No Exception in this case\")"
   ]
  },
  {
   "cell_type": "code",
   "execution_count": 58,
   "id": "3e36ccdf",
   "metadata": {},
   "outputs": [
    {
     "name": "stdout",
     "output_type": "stream",
     "text": [
      "there is an exception\n"
     ]
    }
   ],
   "source": [
    "try:\n",
    "    print(22/0)\n",
    "except:\n",
    "    print(\"there is an exception\")\n",
    "else:\n",
    "    print(\"No Exception in this case\")"
   ]
  },
  {
   "cell_type": "markdown",
   "id": "ba60cb10",
   "metadata": {},
   "source": [
    "#### b.\n",
    "finally: This block of code will always execute.\n",
    "    \n",
    "#### Example"
   ]
  },
  {
   "cell_type": "code",
   "execution_count": 59,
   "id": "3be22e84",
   "metadata": {},
   "outputs": [
    {
     "name": "stdout",
     "output_type": "stream",
     "text": [
      "there is an exception\n",
      "I will always execute..\n"
     ]
    }
   ],
   "source": [
    "try:\n",
    "    print(22/0)\n",
    "except:\n",
    "    print(\"there is an exception\")\n",
    "else:\n",
    "    print(\"No Exception in this case\")\n",
    "finally:\n",
    "    print(\"I will always execute..\")"
   ]
  },
  {
   "cell_type": "code",
   "execution_count": 60,
   "id": "307681ed",
   "metadata": {},
   "outputs": [
    {
     "name": "stdout",
     "output_type": "stream",
     "text": [
      "2.0\n",
      "No Exception in this case\n",
      "I will always execute..\n"
     ]
    }
   ],
   "source": [
    "try:\n",
    "    print(22/11)\n",
    "except:\n",
    "    print(\"there is an exception\")\n",
    "else:\n",
    "    print(\"No Exception in this case\")\n",
    "finally:\n",
    "    print(\"I will always execute..\")"
   ]
  },
  {
   "cell_type": "markdown",
   "id": "a168e3a5",
   "metadata": {},
   "source": [
    "#### c.\n",
    "raise: the raise statement allows the programmer to force a specified exeception to occur.\n",
    "\n",
    "#### Example"
   ]
  },
  {
   "cell_type": "code",
   "execution_count": 62,
   "id": "622bb4a2",
   "metadata": {},
   "outputs": [
    {
     "name": "stdout",
     "output_type": "stream",
     "text": [
      "Enter a number between 0 to 9: 5\n"
     ]
    }
   ],
   "source": [
    "a = int(input(\"Enter a number between 0 to 9: \"))\n",
    "if a > 9:\n",
    "    raise Exception(\"The number is outside the range\")"
   ]
  },
  {
   "cell_type": "markdown",
   "id": "5f7e767c",
   "metadata": {},
   "source": [
    "### Question No. 5"
   ]
  },
  {
   "cell_type": "markdown",
   "id": "36096c9f",
   "metadata": {},
   "source": [
    "Custom Exception: The error that are not exception for the exception class, in such cases program define a new\n",
    "    exception class, such exceptions are known as custom exception."
   ]
  },
  {
   "cell_type": "markdown",
   "id": "38483476",
   "metadata": {},
   "source": [
    "We need Custom Exceptions to get the desired output without any error accourding to our usecase."
   ]
  },
  {
   "cell_type": "code",
   "execution_count": 68,
   "id": "ee79bb87",
   "metadata": {},
   "outputs": [
    {
     "name": "stdout",
     "output_type": "stream",
     "text": [
      "Enter your height in feet: 56\n",
      "Your height is:  56 feet\n"
     ]
    }
   ],
   "source": [
    "height = int(input(\"Enter your height in feet: \"))\n",
    "print(\"Your height is: \", height, \"feet\")"
   ]
  },
  {
   "cell_type": "markdown",
   "id": "ceecef46",
   "metadata": {},
   "source": [
    "In the above \n",
    "\n",
    "\n",
    "user may enter an invalid height(either negative or more than 10 feet) which will be executed without any exception. \n",
    "To handle such exception we need Custom exceptions"
   ]
  },
  {
   "cell_type": "markdown",
   "id": "40ef6fbb",
   "metadata": {},
   "source": [
    "### Question No. 4"
   ]
  },
  {
   "cell_type": "code",
   "execution_count": 64,
   "id": "977c3ded",
   "metadata": {},
   "outputs": [],
   "source": [
    "class validate_height(Exception):\n",
    "    def __init__(self,msg):\n",
    "        self.msg = msg   \n"
   ]
  },
  {
   "cell_type": "code",
   "execution_count": 65,
   "id": "facbca7a",
   "metadata": {},
   "outputs": [],
   "source": [
    "def height_validation(height):\n",
    "    if height < 0 or height > 10 :\n",
    "        raise validate_height(\"This can not be a valid height..!\")\n",
    "    else:\n",
    "        print(\"Height is valid.\")"
   ]
  },
  {
   "cell_type": "code",
   "execution_count": 66,
   "id": "dbe9f662",
   "metadata": {},
   "outputs": [
    {
     "ename": "validate_height",
     "evalue": "This can not be a valid height..!",
     "output_type": "error",
     "traceback": [
      "\u001b[0;31m---------------------------------------------------------------------------\u001b[0m",
      "\u001b[0;31mvalidate_height\u001b[0m                           Traceback (most recent call last)",
      "\u001b[0;32m/tmp/ipykernel_307180/1590631108.py\u001b[0m in \u001b[0;36m<module>\u001b[0;34m\u001b[0m\n\u001b[0;32m----> 1\u001b[0;31m \u001b[0mheight_validation\u001b[0m\u001b[0;34m(\u001b[0m\u001b[0;36m11\u001b[0m\u001b[0;34m)\u001b[0m\u001b[0;34m\u001b[0m\u001b[0;34m\u001b[0m\u001b[0m\n\u001b[0m",
      "\u001b[0;32m/tmp/ipykernel_307180/3500413928.py\u001b[0m in \u001b[0;36mheight_validation\u001b[0;34m(height)\u001b[0m\n\u001b[1;32m      1\u001b[0m \u001b[0;32mdef\u001b[0m \u001b[0mheight_validation\u001b[0m\u001b[0;34m(\u001b[0m\u001b[0mheight\u001b[0m\u001b[0;34m)\u001b[0m\u001b[0;34m:\u001b[0m\u001b[0;34m\u001b[0m\u001b[0;34m\u001b[0m\u001b[0m\n\u001b[1;32m      2\u001b[0m     \u001b[0;32mif\u001b[0m \u001b[0mheight\u001b[0m \u001b[0;34m<\u001b[0m \u001b[0;36m0\u001b[0m \u001b[0;32mor\u001b[0m \u001b[0mheight\u001b[0m \u001b[0;34m>\u001b[0m \u001b[0;36m10\u001b[0m \u001b[0;34m:\u001b[0m\u001b[0;34m\u001b[0m\u001b[0;34m\u001b[0m\u001b[0m\n\u001b[0;32m----> 3\u001b[0;31m         \u001b[0;32mraise\u001b[0m \u001b[0mvalidate_height\u001b[0m\u001b[0;34m(\u001b[0m\u001b[0;34m\"This can not be a valid height..!\"\u001b[0m\u001b[0;34m)\u001b[0m\u001b[0;34m\u001b[0m\u001b[0;34m\u001b[0m\u001b[0m\n\u001b[0m\u001b[1;32m      4\u001b[0m     \u001b[0;32melse\u001b[0m\u001b[0;34m:\u001b[0m\u001b[0;34m\u001b[0m\u001b[0;34m\u001b[0m\u001b[0m\n\u001b[1;32m      5\u001b[0m         \u001b[0mprint\u001b[0m\u001b[0;34m(\u001b[0m\u001b[0;34m\"Height is valid.\"\u001b[0m\u001b[0;34m)\u001b[0m\u001b[0;34m\u001b[0m\u001b[0;34m\u001b[0m\u001b[0m\n",
      "\u001b[0;31mvalidate_height\u001b[0m: This can not be a valid height..!"
     ]
    }
   ],
   "source": [
    "height_validation(11)"
   ]
  },
  {
   "cell_type": "code",
   "execution_count": 67,
   "id": "8660ea47",
   "metadata": {},
   "outputs": [
    {
     "name": "stdout",
     "output_type": "stream",
     "text": [
      "Height is valid.\n"
     ]
    }
   ],
   "source": [
    "height_validation(5.5)"
   ]
  }
 ],
 "metadata": {
  "kernelspec": {
   "display_name": "Python 3 (ipykernel)",
   "language": "python",
   "name": "python3"
  },
  "language_info": {
   "codemirror_mode": {
    "name": "ipython",
    "version": 3
   },
   "file_extension": ".py",
   "mimetype": "text/x-python",
   "name": "python",
   "nbconvert_exporter": "python",
   "pygments_lexer": "ipython3",
   "version": "3.9.7"
  }
 },
 "nbformat": 4,
 "nbformat_minor": 5
}
